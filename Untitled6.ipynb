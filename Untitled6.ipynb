{
  "nbformat": 4,
  "nbformat_minor": 0,
  "metadata": {
    "colab": {
      "provenance": [],
      "authorship_tag": "ABX9TyMmI22MIPG1sZCgLoB0MKMp",
      "include_colab_link": true
    },
    "kernelspec": {
      "name": "python3",
      "display_name": "Python 3"
    },
    "language_info": {
      "name": "python"
    }
  },
  "cells": [
    {
      "cell_type": "markdown",
      "metadata": {
        "id": "view-in-github",
        "colab_type": "text"
      },
      "source": [
        "<a href=\"https://colab.research.google.com/github/iAmHira19/Writing-Cleaned-Data-to-a-File/blob/main/Untitled6.ipynb\" target=\"_parent\"><img src=\"https://colab.research.google.com/assets/colab-badge.svg\" alt=\"Open In Colab\"/></a>"
      ]
    },
    {
      "cell_type": "code",
      "execution_count": 1,
      "metadata": {
        "colab": {
          "base_uri": "https://localhost:8080/"
        },
        "id": "OekeA_dr6f7q",
        "outputId": "3b3f4017-a550-45c6-abc7-e3e630c1c50b"
      },
      "outputs": [
        {
          "output_type": "stream",
          "name": "stdout",
          "text": [
            "Initial DataFrame:\n",
            "   PassengerId  Survived  Pclass  \\\n",
            "0            1         0       3   \n",
            "1            2         1       1   \n",
            "2            3         1       3   \n",
            "3            4         1       1   \n",
            "4            5         0       3   \n",
            "\n",
            "                                                Name     Sex   Age  SibSp  \\\n",
            "0                            Braund, Mr. Owen Harris    male  22.0      1   \n",
            "1  Cumings, Mrs. John Bradley (Florence Briggs Th...  female  38.0      1   \n",
            "2                             Heikkinen, Miss. Laina  female  26.0      0   \n",
            "3       Futrelle, Mrs. Jacques Heath (Lily May Peel)  female  35.0      1   \n",
            "4                           Allen, Mr. William Henry    male  35.0      0   \n",
            "\n",
            "   Parch            Ticket     Fare Cabin Embarked  \n",
            "0      0         A/5 21171   7.2500   NaN        S  \n",
            "1      0          PC 17599  71.2833   C85        C  \n",
            "2      0  STON/O2. 3101282   7.9250   NaN        S  \n",
            "3      0            113803  53.1000  C123        S  \n",
            "4      0            373450   8.0500   NaN        S  \n",
            "\n",
            "Missing values before cleaning:\n",
            "PassengerId      0\n",
            "Survived         0\n",
            "Pclass           0\n",
            "Name             0\n",
            "Sex              0\n",
            "Age            177\n",
            "SibSp            0\n",
            "Parch            0\n",
            "Ticket           0\n",
            "Fare             0\n",
            "Cabin          687\n",
            "Embarked         2\n",
            "dtype: int64\n",
            "\n",
            "Cleaned DataFrame:\n",
            "   Survived  Pclass  Sex   Age  SibSp  Parch     Fare  Embarked\n",
            "0         0       3    0  22.0      1      0   7.2500         0\n",
            "1         1       1    1  38.0      1      0  71.2833         1\n",
            "2         1       3    1  26.0      0      0   7.9250         0\n",
            "3         1       1    1  35.0      1      0  53.1000         0\n",
            "4         0       3    0  35.0      0      0   8.0500         0\n",
            "\n",
            "Missing values after cleaning:\n",
            "Survived    0\n",
            "Pclass      0\n",
            "Sex         0\n",
            "Age         0\n",
            "SibSp       0\n",
            "Parch       0\n",
            "Fare        0\n",
            "Embarked    0\n",
            "dtype: int64\n",
            "\n",
            "Cleaned DataFrame has been saved to 'cleaned_train.csv'\n"
          ]
        }
      ],
      "source": [
        "# Import necessary libraries\n",
        "import pandas as pd\n",
        "\n",
        "# Step 1: Load the dataset\n",
        "df = pd.read_csv('train.csv')\n",
        "\n",
        "# Step 2: Display the first few rows of the dataset\n",
        "print(\"Initial DataFrame:\")\n",
        "print(df.head())\n",
        "\n",
        "# Step 3: Handle Missing Values\n",
        "# Check for missing values\n",
        "print(\"\\nMissing values before cleaning:\")\n",
        "print(df.isnull().sum())\n",
        "\n",
        "# Fill missing values for 'Age' with the median\n",
        "df['Age'].fillna(df['Age'].median(), inplace=True)\n",
        "\n",
        "# Fill missing values for 'Embarked' with the mode\n",
        "df['Embarked'].fillna(df['Embarked'].mode()[0], inplace=True)\n",
        "\n",
        "# Drop the 'Cabin' column due to a high number of missing values\n",
        "df.drop(columns=['Cabin'], inplace=True)\n",
        "\n",
        "# Step 4: Handle Categorical Data\n",
        "# Convert 'Sex' to numerical values\n",
        "df['Sex'] = df['Sex'].map({'male': 0, 'female': 1})\n",
        "\n",
        "# Convert 'Embarked' to numerical values\n",
        "df['Embarked'] = df['Embarked'].map({'S': 0, 'C': 1, 'Q': 2})\n",
        "\n",
        "# Step 5: Drop Unnecessary Columns\n",
        "# Drop columns that are not useful for prediction\n",
        "df.drop(columns=['Name', 'Ticket', 'PassengerId'], inplace=True)\n",
        "\n",
        "# Display the cleaned dataset\n",
        "print(\"\\nCleaned DataFrame:\")\n",
        "print(df.head())\n",
        "\n",
        "# Check for missing values again\n",
        "print(\"\\nMissing values after cleaning:\")\n",
        "print(df.isnull().sum())\n",
        "\n",
        "# Step 6: Write the cleaned DataFrame to a new CSV file\n",
        "df.to_csv('cleaned_train.csv', index=False)\n",
        "\n",
        "print(\"\\nCleaned DataFrame has been saved to 'cleaned_train.csv'\")"
      ]
    }
  ]
}